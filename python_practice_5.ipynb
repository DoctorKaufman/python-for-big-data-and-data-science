{
  "nbformat": 4,
  "nbformat_minor": 0,
  "metadata": {
    "colab": {
      "provenance": []
    },
    "kernelspec": {
      "name": "python3",
      "display_name": "Python 3"
    },
    "language_info": {
      "name": "python"
    }
  },
  "cells": [
    {
      "cell_type": "markdown",
      "source": [
        "# I. OOP"
      ],
      "metadata": {
        "id": "5qV_sehzFCTp"
      }
    },
    {
      "cell_type": "markdown",
      "source": [
        "1. (6б). Створіть клас Animal, додайте три атрибути, один з яких має значення за замовчуванням та два методи на свій розсуд."
      ],
      "metadata": {
        "id": "tx_U_hOALyfg"
      }
    },
    {
      "cell_type": "code",
      "source": [
        "class Animal:\n",
        "\n",
        "    def __init__(self, name, species, age=0):\n",
        "        self.name = name\n",
        "        self.species = species\n",
        "        self.age = age\n",
        "\n",
        "    def say(self, phrase):\n",
        "      print(f\"{self.name} says: '{phrase}'.\")\n",
        "\n",
        "    def introduce(self):\n",
        "      print(f\"I am {self.name}, a cool {self.species} who is {self.age} years old.\")"
      ],
      "metadata": {
        "id": "-Vf895KaL88N"
      },
      "execution_count": 5,
      "outputs": []
    },
    {
      "cell_type": "markdown",
      "source": [
        "2. (2б). Створіть два обʼєкти цього класу, де один з обʼєктів створюється із дефолтним значенням атрибуту. На одному обʼєкті отримайте значення його атрибуту, а на іншому викличте один з його методів."
      ],
      "metadata": {
        "id": "X_UlOMB0L93w"
      }
    },
    {
      "cell_type": "code",
      "source": [
        "dog = Animal(\"Reacher\", \"dog\", 5)\n",
        "dog.introduce()\n",
        "\n",
        "parrot = Animal(\"Silver\", \"parrot\")\n",
        "print(\"Parrots's age:\", parrot.age)"
      ],
      "metadata": {
        "id": "7gBu0ESOMCpG",
        "colab": {
          "base_uri": "https://localhost:8080/"
        },
        "outputId": "1be37a0b-275d-4a4f-fc32-b50fa96642df"
      },
      "execution_count": 48,
      "outputs": [
        {
          "output_type": "stream",
          "name": "stdout",
          "text": [
            "I am Reacher, a cool dog who is 5 years old.\n",
            "Parrots's age: 0\n"
          ]
        }
      ]
    },
    {
      "cell_type": "markdown",
      "source": [
        "3. (5б). Створіть клас, де атрибути мають різні рівні доступу. Спробуйте отримати їхні значення та опишіть результати."
      ],
      "metadata": {
        "id": "HoqSCZt1MHn5"
      }
    },
    {
      "cell_type": "code",
      "source": [
        "class AccessLevels:\n",
        "\n",
        "    def __init__(self):\n",
        "        self.public_attribute = \"public level\"\n",
        "        self._protected_attribute = \"protected level\"\n",
        "        self.__private_attribute = \"private level\"\n",
        "\n",
        "\n",
        "obj = AccessLevels()\n",
        "\n",
        "# Access attempts (we can access both public and protected level directly,\n",
        "# but we cannot access private level)\n",
        "print(\"Public attribute:\", obj.public_attribute)\n",
        "print(\"Protected attribute:\", obj._protected_attribute)\n",
        "\n",
        "try:\n",
        "    print(\"Private attribute:\", obj.__private_attribute)\n",
        "except AttributeError:\n",
        "    print(\"Unable to access the private attribute directly. It is not accessible from the outside of the class in direct way.\")\n",
        "\n",
        "# There is a way to break the rule, but it's usage is discouraged\n",
        "print(\"Protected attribute:\", obj._AccessLevels__private_attribute)"
      ],
      "metadata": {
        "id": "r9b3vJxBMSPV",
        "colab": {
          "base_uri": "https://localhost:8080/"
        },
        "outputId": "575e75f8-7105-4eb7-8b57-3c918bd4f92d"
      },
      "execution_count": 56,
      "outputs": [
        {
          "output_type": "stream",
          "name": "stdout",
          "text": [
            "Public attribute: public level\n",
            "Protected attribute: protected level\n",
            "Unable to access the private attribute directly. It is not accessible from the outside of the class in direct way.\n",
            "Protected attribute: private level\n"
          ]
        }
      ]
    },
    {
      "cell_type": "markdown",
      "source": [
        "4. (7б). Як ви розумієте термін self? Для чого використовується метод __init __?"
      ],
      "metadata": {
        "id": "5op2m2vgMSkZ"
      }
    },
    {
      "cell_type": "markdown",
      "source": [
        "self за домовленістю називають перший аргумент в методах класу, який посилається на поточний об'єкт. Python автоматично передає поточний об'єкт як перший аргумент.\n",
        "\n",
        "__init__ викликається автоматично при створенні нового об'єкта класу для ініціалізації атрибутів, виконуючи роль \"конструктора\".\n",
        "\n"
      ],
      "metadata": {
        "id": "DyiPqNRvMasx"
      }
    },
    {
      "cell_type": "markdown",
      "source": [
        "5. (9б). Створіть клас Фігура без атрибутів, з методом get_area для отримання площі фігури, що повертає 0 та __add __, який приймає self та other в якості аргументів, а повертає суму площин фігур self та other."
      ],
      "metadata": {
        "id": "-6X8EGfjMd2y"
      }
    },
    {
      "cell_type": "code",
      "source": [
        "class Figure:\n",
        "\n",
        "    def get_area(self):\n",
        "        return 0\n",
        "\n",
        "    def __add__(self, other):\n",
        "        return self.get_area() + other.get_area()"
      ],
      "metadata": {
        "id": "4rvO_wYUMaEr"
      },
      "execution_count": 58,
      "outputs": []
    },
    {
      "cell_type": "markdown",
      "source": [
        "6. (11б). Створіть 2 дочірніх класи від Фігури: Трикутник та Коло, які мають атрибути, необхідні для розрахунку площин. Визначте метод get_area в кожному з них так, щоби вони розраховували площу в залежності від формули для кожного типу фігури. Створіть обʼєкт класу Трикутник та обʼєкт класу Коло. Виконайте операцію суми за допомогою оператора + між ними."
      ],
      "metadata": {
        "id": "SFcKnnv5Mo_z"
      }
    },
    {
      "cell_type": "code",
      "source": [
        "import math\n",
        "\n",
        "\n",
        "class Triangle(Figure):\n",
        "\n",
        "    def __init__(self, side1, side2, side3):\n",
        "        self.side1 = side1\n",
        "        self.side2 = side2\n",
        "        self.side3 = side3\n",
        "\n",
        "    def get_area(self):\n",
        "        # Half of perimeter\n",
        "        p = (self.side1 + self.side2 + self.side3)/2\n",
        "        # Geron's formula for triangle's area\n",
        "        area = math.sqrt(p*(p - self.side1)*(p - self.side2)*(p - self.side3))\n",
        "        return area\n",
        "\n",
        "\n",
        "class Circle(Figure):\n",
        "\n",
        "    def __init__(self, radius):\n",
        "        self.radius = radius\n",
        "\n",
        "    def get_area(self):\n",
        "        return math.pi * self.radius**2\n",
        "\n",
        "\n",
        "triangle = Triangle(side1=3, side2=4, side3=5)\n",
        "circle = Circle(radius=4)\n",
        "\n",
        "areas_sum = triangle + circle\n",
        "print(\"Total area of triangle and circle using '+' operator:\", areas_sum)"
      ],
      "metadata": {
        "id": "H3GVNr69Muf3",
        "colab": {
          "base_uri": "https://localhost:8080/"
        },
        "outputId": "5e954b94-ec56-41bc-adc4-0c8c649985ab"
      },
      "execution_count": 62,
      "outputs": [
        {
          "output_type": "stream",
          "name": "stdout",
          "text": [
            "Total area of triangle and circle using '+' operator: 56.26548245743669\n"
          ]
        }
      ]
    },
    {
      "cell_type": "markdown",
      "source": [
        "7. (3б). Продемонструйте різницю між isinstance та issubclass."
      ],
      "metadata": {
        "id": "HCvR206YMvLK"
      }
    },
    {
      "cell_type": "code",
      "source": [
        "class ParentClass:\n",
        "    pass\n",
        "\n",
        "\n",
        "class ChildClass(ParentClass):\n",
        "    pass\n",
        "\n",
        "\n",
        "obj = ChildClass()\n",
        "# Checks whether object is an instance of class or its subclasses\n",
        "# True\n",
        "print(\"Is obj an instance of ChildClass?\", isinstance(obj, ChildClass))\n",
        "# True, because ChildClass is a subclass of ParentClass\n",
        "print(\"Is obj an instance of ParentClass?\", isinstance(obj, ParentClass))\n",
        "# True - all classes in Python inherit object\n",
        "print(\"Is obj an instance of object?\", isinstance(obj, object))\n",
        "\n",
        "# Checks whether class is subclass of particular class or its subclasses\n",
        "# True, because ChildClass is a subclass of ParentClass\n",
        "print(\"Is ChildClass a subclass of ParentClass?\", issubclass(ChildClass, ParentClass))\n",
        "# True, as ParentClass is a subclass of object\n",
        "print(\"Is ParentClass a subclass of object?\", issubclass(ParentClass, object))\n",
        "# True, because int is a subclass of object\n",
        "print(\"Is int a subclass of object?\", issubclass(int, object))"
      ],
      "metadata": {
        "id": "L_V1bBvDM0GN",
        "colab": {
          "base_uri": "https://localhost:8080/"
        },
        "outputId": "1888729a-3c4f-44f2-9c35-90c379d302ee"
      },
      "execution_count": 65,
      "outputs": [
        {
          "output_type": "stream",
          "name": "stdout",
          "text": [
            "Is obj an instance of ChildClass? True\n",
            "Is obj an instance of ParentClass? True\n",
            "Is obj an instance of object? True\n",
            "Is ChildClass a subclass of ParentClass? True\n",
            "Is ParentClass a subclass of object? True\n",
            "Is int a subclass of object? True\n"
          ]
        }
      ]
    },
    {
      "cell_type": "markdown",
      "source": [
        "8. (13б). Створіть клас BankAccount з приватними атрибутами balance та account_number. Реалізуйте методи поповнення та зняття коштів, забезпечивши належну інкапсуляцію. Підказка: використовуйте декоратори property та setter."
      ],
      "metadata": {
        "id": "jjsaBZ-iM0Qq"
      }
    },
    {
      "cell_type": "code",
      "source": [
        "class BankAccount:\n",
        "\n",
        "    def __init__(self, account_number, initial_balance=0):\n",
        "        self.__account_number = account_number\n",
        "        self.__balance = initial_balance\n",
        "\n",
        "    @property\n",
        "    def balance(self):\n",
        "        return self.__balance\n",
        "\n",
        "    @balance.setter\n",
        "    def balance(self, new_balance):\n",
        "        if new_balance >= 0:\n",
        "            self.__balance = new_balance\n",
        "        else:\n",
        "            print(\"Invalid balance. Balance cannot be negative.\")\n",
        "\n",
        "    @property\n",
        "    def account_number(self):\n",
        "        return self.__account_number\n",
        "\n",
        "    def deposit(self, amount):\n",
        "        if amount > 0:\n",
        "            self.balance += amount\n",
        "        else:\n",
        "            print(\"Amount must be greater than zero.\")\n",
        "\n",
        "    def withdraw(self, amount):\n",
        "        if 0 < amount <= self.balance:\n",
        "            self.balance -= amount\n",
        "        else:\n",
        "            print(\"Invalid amount or insufficient funds.\")\n",
        "\n",
        "\n",
        "account = BankAccount(account_number=\"1021468923\", initial_balance=1000)\n",
        "\n",
        "print(\"Account number:\", account.account_number)\n",
        "print(\"Balance:\", account.balance)\n",
        "\n",
        "print(\"Initial balance:\", account.balance)\n",
        "account.deposit(500)\n",
        "print(\"Balance after deposit:\", account.balance)\n",
        "account.withdraw(200)\n",
        "print(\"Balance after withdrawal:\", account.balance)"
      ],
      "metadata": {
        "id": "xCvZ7lh8M7YA",
        "colab": {
          "base_uri": "https://localhost:8080/"
        },
        "outputId": "2c7749f7-289a-48b6-dc03-e752d153c9ab"
      },
      "execution_count": 75,
      "outputs": [
        {
          "output_type": "stream",
          "name": "stdout",
          "text": [
            "Account number: 1021468923\n",
            "Balance: 1000\n",
            "Initial balance: 1000\n",
            "Balance after deposit: 1500\n",
            "Balance after withdrawal: 1300\n"
          ]
        }
      ]
    },
    {
      "cell_type": "markdown",
      "source": [
        "9. (11б). Створіть клас Library, який містить список об'єктів типу Book. Реалізуйте методи для додавання книги, видалення книги та відображення списку книг."
      ],
      "metadata": {
        "id": "tIzL2SJTM8ft"
      }
    },
    {
      "cell_type": "code",
      "source": [
        "class Book:\n",
        "\n",
        "    def __init__(self, title, author):\n",
        "        self.title = title\n",
        "        self.author = author\n",
        "\n",
        "    def __str__(self):\n",
        "        return f\"{self.title} by {self.author}\"\n",
        "\n",
        "class Library:\n",
        "\n",
        "    def __init__(self):\n",
        "        self.books = []\n",
        "\n",
        "    def __str__(self):\n",
        "      if self.books:\n",
        "          book_list = \"\\n\".join([f\"{index}. {book}\" for index, book in enumerate(self.books, start=1)])\n",
        "          return f\"Library catalog:\\n{book_list}\"\n",
        "      else:\n",
        "          return \"The library is empty.\"\n",
        "\n",
        "    def add_book(self, book):\n",
        "        if isinstance(book, Book):\n",
        "            print(f\"'{book.title}' written by {book.author} added to the library.\")\n",
        "            self.books.append(book)\n",
        "        else:\n",
        "            print(\"Invalid book object. Please provide an instance of the Book class.\")\n",
        "\n",
        "    def remove_book(self, title):\n",
        "        for book in self.books:\n",
        "            if book.title == title:\n",
        "                self.books.remove(book)\n",
        "                print(f\"Book '{title}' removed from the library.\")\n",
        "                return\n",
        "        print(f\"Book '{title}' not found in the library.\")\n",
        "\n",
        "\n",
        "library = Library()\n",
        "\n",
        "book1 = Book(\"Harry Potter and the Philosopher's Stone\", \"J.K. Rowling\")\n",
        "book2 = Book(\"To Kill a Mockingbird\", \"Harper Lee\")\n",
        "\n",
        "library.add_book(book1)\n",
        "library.add_book(book2)\n",
        "print(library)\n",
        "\n",
        "library.remove_book(\"To Kill a Mockingbird\")\n",
        "print(library)"
      ],
      "metadata": {
        "id": "HWxfJKLtNAUZ",
        "colab": {
          "base_uri": "https://localhost:8080/"
        },
        "outputId": "94b99a07-d049-4501-fa78-f1044b52fd12"
      },
      "execution_count": 78,
      "outputs": [
        {
          "output_type": "stream",
          "name": "stdout",
          "text": [
            "'Harry Potter and the Philosopher's Stone' written by J.K. Rowling added to the library.\n",
            "'To Kill a Mockingbird' written by Harper Lee added to the library.\n",
            "Library catalog:\n",
            "1. Harry Potter and the Philosopher's Stone by J.K. Rowling\n",
            "2. To Kill a Mockingbird by Harper Lee\n",
            "Book 'To Kill a Mockingbird' removed from the library.\n",
            "Library catalog:\n",
            "1. Harry Potter and the Philosopher's Stone by J.K. Rowling\n"
          ]
        }
      ]
    },
    {
      "cell_type": "markdown",
      "source": [
        "10. (13б). Створіть клас Person з атрибутами name та age. Створіть ще один клас Employee з такими атрибутами, як department та salary. Створіть клас Manager, який успадковує обидва класи Person та Employee. Продемонструйте використання множинної спадковості, створивши обʼєкт класу Manager та отримавши mro для цього класу."
      ],
      "metadata": {
        "id": "lmV8pAwwNIqu"
      }
    },
    {
      "cell_type": "code",
      "source": [
        "class Person:\n",
        "\n",
        "    def __init__(self, name, age):\n",
        "        self.name = name\n",
        "        self.age = age\n",
        "\n",
        "\n",
        "class Employee:\n",
        "\n",
        "    def __init__(self, department, salary):\n",
        "        self.department = department\n",
        "        self.salary = salary\n",
        "\n",
        "\n",
        "class Manager(Person, Employee):\n",
        "\n",
        "    def __init__(self, name, age, department, salary):\n",
        "        Person.__init__(self, name, age)\n",
        "        Employee.__init__(self, department, salary)\n",
        "\n",
        "\n",
        "manager = Manager(\"Jack Reacher\", 40, \"Marketing\", 50000)\n",
        "print(\"Manager:\", manager.name)\n",
        "print(\"Age:\", manager.age)\n",
        "print(\"Department:\", manager.department)\n",
        "print(\"Salary:\", manager.salary)\n",
        "\n",
        "print(\"Method Resolution Order (MRO):\", Manager.mro())"
      ],
      "metadata": {
        "id": "R49grKlWNPeN",
        "colab": {
          "base_uri": "https://localhost:8080/"
        },
        "outputId": "db8ec765-e181-41d8-ddd0-eedba365cfb4"
      },
      "execution_count": 84,
      "outputs": [
        {
          "output_type": "stream",
          "name": "stdout",
          "text": [
            "Manager: Jack Reacher\n",
            "Age: 40\n",
            "Department: Marketing\n",
            "Salary: 50000\n",
            "Method Resolution Order (MRO): [<class '__main__.Manager'>, <class '__main__.Person'>, <class '__main__.Employee'>, <class 'object'>]\n"
          ]
        }
      ]
    },
    {
      "cell_type": "markdown",
      "source": [
        "# II. Iterator"
      ],
      "metadata": {
        "id": "dIJyUiNBFG8G"
      }
    },
    {
      "cell_type": "markdown",
      "source": [
        "11. (4б). Визначте рядок(str) з 4ма різними за значенням символами. Створіть ітератор на основі цього рядка. Викличте 5 разів функцію next на ітераторі, 4ри перших з них огорніть у ф-цію print()."
      ],
      "metadata": {
        "id": "13vsm0NyKIzL"
      }
    },
    {
      "cell_type": "code",
      "source": [
        "four_character_string = \"fghj\"\n",
        "\n",
        "str_iterator = iter(four_character_string)\n",
        "\n",
        "for i in range(5):\n",
        "    try:\n",
        "        if i < 4:\n",
        "            print(next(str_iterator))\n",
        "        else:\n",
        "            next(str_iterator)\n",
        "    except StopIteration:\n",
        "        print(\"End of iter.\")"
      ],
      "metadata": {
        "id": "81ntabAkKuz-",
        "colab": {
          "base_uri": "https://localhost:8080/"
        },
        "outputId": "2524f588-fa0f-4648-d927-8435e6c582bf"
      },
      "execution_count": 88,
      "outputs": [
        {
          "output_type": "stream",
          "name": "stdout",
          "text": [
            "f\n",
            "g\n",
            "h\n",
            "j\n",
            "End of iter.\n"
          ]
        }
      ]
    },
    {
      "cell_type": "markdown",
      "source": [
        "А що якщо викликати цю ж функцію на рядку?"
      ],
      "metadata": {
        "id": "aekWHGXOLRsO"
      }
    },
    {
      "cell_type": "code",
      "source": [
        "# I trigger an exception to show result of call, that's not a mistake\n",
        "four_character_string.next() # AttributeError: 'str' object has no attribute 'next'"
      ],
      "metadata": {
        "id": "mxATGsErLV1i",
        "colab": {
          "base_uri": "https://localhost:8080/",
          "height": 159
        },
        "outputId": "1eba27b1-bfd1-4e73-de6e-b2acb8a36fde"
      },
      "execution_count": 90,
      "outputs": [
        {
          "output_type": "error",
          "ename": "AttributeError",
          "evalue": "'str' object has no attribute 'next'",
          "traceback": [
            "\u001b[0;31m---------------------------------------------------------------------------\u001b[0m",
            "\u001b[0;31mAttributeError\u001b[0m                            Traceback (most recent call last)",
            "\u001b[0;32m<ipython-input-90-5f00396d35f9>\u001b[0m in \u001b[0;36m<cell line: 2>\u001b[0;34m()\u001b[0m\n\u001b[1;32m      1\u001b[0m \u001b[0;31m# I trigger an exception to show result of call, that's not a mistake\u001b[0m\u001b[0;34m\u001b[0m\u001b[0;34m\u001b[0m\u001b[0m\n\u001b[0;32m----> 2\u001b[0;31m \u001b[0mfour_character_string\u001b[0m\u001b[0;34m.\u001b[0m\u001b[0mnext\u001b[0m\u001b[0;34m(\u001b[0m\u001b[0;34m)\u001b[0m \u001b[0;31m# AttributeError: 'str' object has no attribute 'next'\u001b[0m\u001b[0;34m\u001b[0m\u001b[0;34m\u001b[0m\u001b[0m\n\u001b[0m",
            "\u001b[0;31mAttributeError\u001b[0m: 'str' object has no attribute 'next'"
          ]
        }
      ]
    },
    {
      "cell_type": "markdown",
      "source": [
        " 12. (5б). Опишіть своїми словами в одному реченні, як ви розумієте різницю між ітерабельними обʼєктами та ітераторами (можна на прикладі)."
      ],
      "metadata": {
        "id": "XwtMEopwJ4pH"
      }
    },
    {
      "cell_type": "markdown",
      "source": [
        "Ітерабельні об'єкти є колекціями, які можна ітерувати (обходити) в циклах чи інших конструкторах, а ітератори - це об'єкти, що зберігають стан ітерації там мають метод next() для повернення наступного елемента колекції."
      ],
      "metadata": {
        "id": "-sHrODc3KFn8"
      }
    },
    {
      "cell_type": "markdown",
      "source": [
        "\\:13. (11б). Створіть клас, що має визначений Iterator Protocol та при кожному виклику next повертає літери англійської абетки, поки вони не вичерпаються."
      ],
      "metadata": {
        "id": "E9qJWmNbK8Gl"
      }
    },
    {
      "cell_type": "code",
      "source": [
        "class EnglishLetterIterator:\n",
        "\n",
        "    def __init__(self):\n",
        "        # ord allows to operate chars as Unicode codes\n",
        "        self.current_letter = ord('a')\n",
        "\n",
        "    def __iter__(self):\n",
        "        return self\n",
        "\n",
        "    def __next__(self):\n",
        "        if self.current_letter <= ord('z'):\n",
        "            # Decode char from int code\n",
        "            letter = chr(self.current_letter)\n",
        "            self.current_letter += 1\n",
        "            return letter\n",
        "        else:\n",
        "            raise StopIteration\n",
        "\n",
        "\n",
        "alphabet_iterator = EnglishLetterIterator()\n",
        "\n",
        "for _ in range(26):\n",
        "    print(next(alphabet_iterator))"
      ],
      "metadata": {
        "id": "cqx-g_RsLo6I",
        "colab": {
          "base_uri": "https://localhost:8080/"
        },
        "outputId": "d5228ce1-d319-436a-fb65-0985bf73c981"
      },
      "execution_count": 98,
      "outputs": [
        {
          "output_type": "stream",
          "name": "stdout",
          "text": [
            "a\n",
            "b\n",
            "c\n",
            "d\n",
            "e\n",
            "f\n",
            "g\n",
            "h\n",
            "i\n",
            "j\n",
            "k\n",
            "l\n",
            "m\n",
            "n\n",
            "o\n",
            "p\n",
            "q\n",
            "r\n",
            "s\n",
            "t\n",
            "u\n",
            "v\n",
            "w\n",
            "x\n",
            "y\n",
            "z\n"
          ]
        }
      ]
    },
    {
      "cell_type": "markdown",
      "source": [
        "# Вітаю! Ви велика(ий) молодець, що впоралась(вся). Похваліть себе та побалуйте чимось приємним. Я Вами пишаюся."
      ],
      "metadata": {
        "id": "Z3E3S_s1Fv7-"
      }
    }
  ]
}
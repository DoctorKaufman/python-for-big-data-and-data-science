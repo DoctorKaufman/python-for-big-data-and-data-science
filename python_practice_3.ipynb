{
  "nbformat": 4,
  "nbformat_minor": 0,
  "metadata": {
    "colab": {
      "provenance": []
    },
    "kernelspec": {
      "name": "python3",
      "display_name": "Python 3"
    },
    "language_info": {
      "name": "python"
    }
  },
  "cells": [
    {
      "cell_type": "markdown",
      "source": [
        "# I. Оператори порівняння та логічні оператори. Умови."
      ],
      "metadata": {
        "id": "qDEi2Pi-4yUC"
      }
    },
    {
      "cell_type": "markdown",
      "source": [
        "1. Створіть цілочисленну змінну зі своїм щасливим або улюбленим числом. Напишіть код, який би автоматизовував наступну задачу.\n",
        "\n",
        "Якщо число парне, помножте його на 2 та виведіть результат на екран.\n",
        "\n",
        "Але якщо число непарне, помножте його на 3 та додайте 1 і виведіть на екран."
      ],
      "metadata": {
        "id": "3v8D4Dkm43Ua"
      }
    },
    {
      "cell_type": "code",
      "execution_count": 73,
      "metadata": {
        "id": "dlVjc-Nu4bmb",
        "colab": {
          "base_uri": "https://localhost:8080/"
        },
        "outputId": "e56fa85d-043d-4552-9a60-8462b21ac934"
      },
      "outputs": [
        {
          "output_type": "stream",
          "name": "stdout",
          "text": [
            "28\n"
          ]
        }
      ],
      "source": [
        "my_int = 9\n",
        "\n",
        "if my_int % 2 == 0:\n",
        "  my_int = my_int * 2\n",
        "else:\n",
        "  my_int = my_int * 3 + 1\n",
        "\n",
        "print(my_int)"
      ]
    },
    {
      "cell_type": "markdown",
      "source": [
        "2. Створіть змінну, що посилається на список. Якщо список пустий, додайте будь-який елемент у кінець списку. Якщо ж ні, то нічого не робіть."
      ],
      "metadata": {
        "id": "H669P0QK5BI_"
      }
    },
    {
      "cell_type": "code",
      "source": [
        "list1 = []\n",
        "# list1 = [1, 2, 3]\n",
        "\n",
        "if not list1:\n",
        "  list1.append(\"new element\")\n",
        "\n",
        "print(list1)"
      ],
      "metadata": {
        "id": "ecWlfra45f6E",
        "colab": {
          "base_uri": "https://localhost:8080/"
        },
        "outputId": "09d8e9be-530b-4d4a-de9f-9e971fee4620"
      },
      "execution_count": 37,
      "outputs": [
        {
          "output_type": "stream",
          "name": "stdout",
          "text": [
            "['new element']\n"
          ]
        }
      ]
    },
    {
      "cell_type": "markdown",
      "source": [
        "3. Створіть рядок зі своїм імʼям латинкою. Напишіть код, який би автоматизовував наступну задачу.\n",
        "\n",
        "Якщо в імені є літера \"а\"\n",
        " або \"i\", Виведіть на екран повідомлення \"A or I is in the name\".\n",
        "\n",
        "\n",
        "\n",
        "Якщо в імені є літери \"o\" та \"n\", Виведіть на екран повідомлення \"O and N is in the name\".\n",
        "\n",
        "Також якщо в імені немає літери \"о\", але є \"n\", Виведіть на екран повідомлення \"Only N is in the name\".\n",
        "\n",
        "В решті випадків виведіть на екран повідомлення \"There is no N in the name, but there might be O\".\n",
        "\n",
        "Зверніть увагу, що, наприклад, для імені \"Antonina\" буде виведено два повідомлення."
      ],
      "metadata": {
        "id": "h9Y3cMUd5h85"
      }
    },
    {
      "cell_type": "code",
      "source": [
        "my_name = \"Andrii\"\n",
        "\n",
        "if 'a' in my_name.lower() or 'i' in my_name.lower():\n",
        "    print(\"A or I is in the name\")\n",
        "\n",
        "if 'o' in my_name.lower() and 'n' in my_name.lower():\n",
        "    print(\"O and N is in the name\")\n",
        "elif 'n' in my_name.lower() and 'o' not in my_name.lower():\n",
        "    print(\"Only N is in the name\")\n",
        "else:\n",
        "    print(\"There is no N in the name, but there might be O\")\n"
      ],
      "metadata": {
        "id": "bUH4LUx35u52",
        "colab": {
          "base_uri": "https://localhost:8080/"
        },
        "outputId": "cbce3ee5-8206-41c5-b44a-fc6838e1c658"
      },
      "execution_count": 79,
      "outputs": [
        {
          "output_type": "stream",
          "name": "stdout",
          "text": [
            "A or I is in the name\n",
            "Only N is in the name\n"
          ]
        }
      ]
    },
    {
      "cell_type": "markdown",
      "source": [
        "# II. Comprehensions."
      ],
      "metadata": {
        "id": "wPCXJv4354cU"
      }
    },
    {
      "cell_type": "markdown",
      "source": [
        ":4. Створіть список, використовуючи if (не if-else), range та comprehension."
      ],
      "metadata": {
        "id": "jULLW5jN55Pw"
      }
    },
    {
      "cell_type": "code",
      "source": [
        "even_squares = [x ** 2 for x in range(10) if x % 2 == 0]\n",
        "\n",
        "print(even_squares)"
      ],
      "metadata": {
        "id": "mlZalnVC6W3F",
        "colab": {
          "base_uri": "https://localhost:8080/"
        },
        "outputId": "d3d56dcb-be26-4c53-ad0f-0d3775b9fd3e"
      },
      "execution_count": 52,
      "outputs": [
        {
          "output_type": "stream",
          "name": "stdout",
          "text": [
            "[0, 4, 16, 36, 64]\n"
          ]
        }
      ]
    },
    {
      "cell_type": "markdown",
      "source": [
        "5. Створіть словник, використовуючи dict comprehension, що містить if else. Коли слід використовувати comprehensions, а коли їх слід уникати?"
      ],
      "metadata": {
        "id": "LqhEQ4JW6XcC"
      }
    },
    {
      "cell_type": "code",
      "source": [
        "squares_dict = {x: x**2 if x % 2 == 0 else \"Not even\" for x in range(15)}\n",
        "\n",
        "print(squares_dict)"
      ],
      "metadata": {
        "id": "1yVaFbOs6hta",
        "colab": {
          "base_uri": "https://localhost:8080/"
        },
        "outputId": "6db273f3-38ad-4887-ad03-b95b795f351c"
      },
      "execution_count": 51,
      "outputs": [
        {
          "output_type": "stream",
          "name": "stdout",
          "text": [
            "{0: 0, 1: 'Not even', 2: 4, 3: 'Not even', 4: 16, 5: 'Not even', 6: 36, 7: 'Not even', 8: 64, 9: 'Not even', 10: 100, 11: 'Not even', 12: 144, 13: 'Not even', 14: 196}\n"
          ]
        }
      ]
    },
    {
      "cell_type": "markdown",
      "source": [
        "Comprehensions варто використовувати, щоб коротко та швидко згенерувати список, множину чи словник з певними нескладними фільтрами.\n",
        "Якщо ж потрібно працювати з складними вкладеними comprehensions, це може погіршити читабельність коду, тому їх треба уникати в таких випадках."
      ],
      "metadata": {
        "id": "wbkzNhKq6hzz"
      }
    },
    {
      "cell_type": "markdown",
      "source": [
        "6. Створіть список з рядками та запишіть його у змінну. Створіть ще один список на основі попереднього, де кожен рядок буде містити тільки три перших заглавних символи. Наприклад: ['hello', 'i', 'dont', 'care'] -> ['HEL', 'I', 'DON', 'CAR']. Використання comprehensions обовʼязкове."
      ],
      "metadata": {
        "id": "ZlqB8G3G6lHP"
      }
    },
    {
      "cell_type": "code",
      "source": [
        "word_lst = ['hello', 'i', 'dont', 'care', 'about', 'something']\n",
        "\n",
        "generated = [wrd[:3].upper() for wrd in word_lst]\n",
        "\n",
        "print(generated)"
      ],
      "metadata": {
        "id": "nw6rz0bR60VC",
        "colab": {
          "base_uri": "https://localhost:8080/"
        },
        "outputId": "1ec91083-5886-49b2-b119-386f17f3763d"
      },
      "execution_count": 55,
      "outputs": [
        {
          "output_type": "stream",
          "name": "stdout",
          "text": [
            "['HEL', 'I', 'DON', 'CAR', 'ABO', 'SOM']\n"
          ]
        }
      ]
    },
    {
      "cell_type": "markdown",
      "source": [
        "# III. Цикли."
      ],
      "metadata": {
        "id": "Tj573IAH64Fz"
      }
    },
    {
      "cell_type": "markdown",
      "source": [
        "7. Продемонструйте роботу циклу while. Не можна використовувати True для запуску циклу, щоб уникнути безкінечного циклу!"
      ],
      "metadata": {
        "id": "tN_33xdE65H5"
      }
    },
    {
      "cell_type": "code",
      "source": [
        "cntr = 10\n",
        "\n",
        "print(\"Reverse count:\")\n",
        "\n",
        "while cntr > 0:\n",
        "  print(cntr)\n",
        "  cntr -= 1\n",
        "\n",
        "print(\"Ignition!\")"
      ],
      "metadata": {
        "id": "Kd9FO6yG63P5",
        "colab": {
          "base_uri": "https://localhost:8080/"
        },
        "outputId": "cbd92ef5-cd26-41fc-8d8a-7254edd2b5b1"
      },
      "execution_count": 59,
      "outputs": [
        {
          "output_type": "stream",
          "name": "stdout",
          "text": [
            "Reverse count:\n",
            "10\n",
            "9\n",
            "8\n",
            "7\n",
            "6\n",
            "5\n",
            "4\n",
            "3\n",
            "2\n",
            "1\n",
            "Ignition!\n"
          ]
        }
      ]
    },
    {
      "cell_type": "markdown",
      "source": [
        "8. Напишіть програму, яка виведе на екран непарні числа в діапазоні від 0 до 20 включно."
      ],
      "metadata": {
        "id": "x2CmfZO-7pW0"
      }
    },
    {
      "cell_type": "code",
      "source": [
        "for num in range(1, 21, 2):\n",
        "  print(num)"
      ],
      "metadata": {
        "id": "aCSRYA6s7tkF",
        "colab": {
          "base_uri": "https://localhost:8080/"
        },
        "outputId": "28f49990-5c1d-4849-fd38-c8d703ce2dda"
      },
      "execution_count": 77,
      "outputs": [
        {
          "output_type": "stream",
          "name": "stdout",
          "text": [
            "1\n",
            "3\n",
            "5\n",
            "7\n",
            "9\n",
            "11\n",
            "13\n",
            "15\n",
            "17\n",
            "19\n"
          ]
        }
      ]
    },
    {
      "cell_type": "markdown",
      "source": [
        "9. Створіть список з елементами булевого типу або None. Використовуючи цикли, отримайте в результаті список з кортежами, де перший елемент кортежу - індекс(ціле число), а другий елемент - відповідне значення з першого списку.\n",
        "\n",
        "Наприклад, [True, True, None, False] -> [(0, True), (1, True), (2, None), (3, False)]"
      ],
      "metadata": {
        "id": "MDWNocZD7t_B"
      }
    },
    {
      "cell_type": "code",
      "source": [
        "bool_lst = [True, True, None, False, True, True, False]\n",
        "\n",
        "tuple_lst = []\n",
        "\n",
        "for idx, value in enumerate(bool_lst):\n",
        "  tuple_lst.append((idx, value))\n",
        "\n",
        "print(tuple_lst)"
      ],
      "metadata": {
        "id": "0EUyjMdp7yfh",
        "colab": {
          "base_uri": "https://localhost:8080/"
        },
        "outputId": "ce64972f-663a-4a1f-f1c8-97ecd9353b81"
      },
      "execution_count": 80,
      "outputs": [
        {
          "output_type": "stream",
          "name": "stdout",
          "text": [
            "[(0, True), (1, True), (2, None), (3, False), (4, True), (5, True), (6, False)]\n"
          ]
        }
      ]
    },
    {
      "cell_type": "markdown",
      "source": [
        "10. Створіть словник, де ключі - назви книжок, а значення - їхня кількість у наявності в Вашій міні-бібліотеці. Бібліотека має містити щонайменше 6 книжок (6 пар значень у словнику) і щонайбільше 10 (пар значень). Використовуючи цикли, оновіть словник (не створюйте новий) так, щоби кількість книг у наявності збільшилося на 5 кожної книги. Наприклад,\n",
        "{'It': 3, 'Fault stars': 10, 'Bible': 17, 'Psychological romance': 4, 'Harry Potter': 13} -> {'It': 8, 'Fault stars': 15, 'Bible': 22, 'Psychological romance': 9, 'Harry Potter': 18}"
      ],
      "metadata": {
        "id": "-6XUqlcG7zKs"
      }
    },
    {
      "cell_type": "code",
      "source": [
        "books = {\n",
        "    '1984': 8,\n",
        "    'To Kill a Mockingbird': 12,\n",
        "    'Fahrenheit 451': 6,\n",
        "    'Ivanhoe': 3,\n",
        "    'Sherlock Holmes': 10,\n",
        "    'The Picture of Dorian Gray': 11,\n",
        "    'The Master and Margarita': 6\n",
        "}\n",
        "\n",
        "print(\"Initial state:\", books)\n",
        "\n",
        "for book in books:\n",
        "  books[book] += 5\n",
        "\n",
        "print(\"Final state:\", books)"
      ],
      "metadata": {
        "id": "Ceoj9wwb791q",
        "colab": {
          "base_uri": "https://localhost:8080/"
        },
        "outputId": "8b68ef3b-e1e1-43ab-b7ab-49ab06bcb1a8"
      },
      "execution_count": 65,
      "outputs": [
        {
          "output_type": "stream",
          "name": "stdout",
          "text": [
            "Initial state: {'1984': 8, 'To Kill a Mockingbird': 12, 'Fahrenheit 451': 6, 'Ivanhoe': 3, 'Sherlock Holmes': 10, 'The Picture of Dorian Gray': 11, 'The Master and Margarita': 6}\n",
            "Final state: {'1984': 13, 'To Kill a Mockingbird': 17, 'Fahrenheit 451': 11, 'Ivanhoe': 8, 'Sherlock Holmes': 15, 'The Picture of Dorian Gray': 16, 'The Master and Margarita': 11}\n"
          ]
        }
      ]
    },
    {
      "cell_type": "markdown",
      "source": [
        "11. Визначте цілочислену змінну n, що належить проміжку від 4 до 10 включно. Використовуючи цикли, виведіть в консоль наступний патерн.\n",
        "\n",
        "#\n",
        "##\n",
        "###\n",
        "####\n",
        "\n",
        "... #*n\n"
      ],
      "metadata": {
        "id": "QLzyJM288AC7"
      }
    },
    {
      "cell_type": "code",
      "source": [
        "n = 5\n",
        "\n",
        "for i in range(1, n + 1):\n",
        "        print(\"#\" * i)"
      ],
      "metadata": {
        "id": "KOpng87s8Duz",
        "colab": {
          "base_uri": "https://localhost:8080/"
        },
        "outputId": "567ff903-ece2-4437-9721-8d339acc586e"
      },
      "execution_count": 69,
      "outputs": [
        {
          "output_type": "stream",
          "name": "stdout",
          "text": [
            "#\n",
            "##\n",
            "###\n",
            "####\n",
            "#####\n"
          ]
        }
      ]
    },
    {
      "cell_type": "markdown",
      "source": [
        "12. Гра \"Нумо вгадай\".\n",
        "Розробіть просту гру, де користувач має вгадати випадкове число від 1 до 100. Для генерації випадкового числа використовуйте функцію random.randint(a, b) (тут a та b включно). Для отримання числа з консолі використовуйте функцію input(), результат якої обовʼязково явно приведіть до типу int.\n",
        "\n",
        "Підказка: використовуйте цикл while та умови if-else, щоб повідомити користувачу піказки (напр. \"Більше\", \"Менше\") поки користувач не вгадає. По завершенню виведіть кількість спроб, які знадобилися для вгадування."
      ],
      "metadata": {
        "id": "_bd-bqAT8EHn"
      }
    },
    {
      "cell_type": "code",
      "source": [
        "import random\n",
        "\n",
        "n_to_guess = random.randint(1, 100)\n",
        "attempts = 0\n",
        "guess = -1\n",
        "\n",
        "while guess != n_to_guess:\n",
        "    guess = input(\"Enter a number between 1 and 100: \")\n",
        "    # Check if the input is a digit\n",
        "    if guess.isdigit():\n",
        "        guess = int(guess)\n",
        "        # Convert the input to an integer\n",
        "        if 1 <= guess <= 100:\n",
        "            attempts += 1\n",
        "            # Give hints\n",
        "            if guess < n_to_guess:\n",
        "                print(\"Try bigger\")\n",
        "            elif guess > n_to_guess:\n",
        "                print(\"Try smaller\")\n",
        "            else:\n",
        "                print(\"You win!\\nAttempts total:\", attempts)\n",
        "        else:\n",
        "            print(\"Number out of range! Please enter a number between 1 and 100.\")\n",
        "    else:\n",
        "        print(\"Invalid input! Please enter a valid number.\")\n",
        "\n"
      ],
      "metadata": {
        "id": "IK9nnxFK8Hkl",
        "colab": {
          "base_uri": "https://localhost:8080/"
        },
        "outputId": "e848ddfa-05cf-4200-9799-5107eff120b9"
      },
      "execution_count": 71,
      "outputs": [
        {
          "output_type": "stream",
          "name": "stdout",
          "text": [
            "Enter a number between 1 and 100: 50\n",
            "Try smaller\n",
            "Enter a number between 1 and 100: \n",
            "Invalid input! Please enter a valid number.\n",
            "Enter a number between 1 and 100: \n",
            "Invalid input! Please enter a valid number.\n",
            "Enter a number between 1 and 100: \n",
            "Invalid input! Please enter a valid number.\n",
            "Enter a number between 1 and 100: aasd\n",
            "Invalid input! Please enter a valid number.\n",
            "Enter a number between 1 and 100: 1000\n",
            "Number out of range! Please enter a number between 1 and 100.\n",
            "Enter a number between 1 and 100: 25\n",
            "Try bigger\n",
            "Enter a number between 1 and 100: 37\n",
            "Try bigger\n",
            "Enter a number between 1 and 100: 43\n",
            "Try bigger\n",
            "Enter a number between 1 and 100: 44\n",
            "Try bigger\n",
            "Enter a number between 1 and 100: 45\n",
            "Try bigger\n",
            "Enter a number between 1 and 100: 47\n",
            "Try bigger\n",
            "Enter a number between 1 and 100: 48\n",
            "You win!\n",
            "Attempts total: 8\n"
          ]
        }
      ]
    },
    {
      "cell_type": "markdown",
      "source": [
        "# Вітаю! Ви велика(ий) молодець, що впоралась(вся). Похваліть себе та побалуйте чимось приємним. Я Вами пишаюся."
      ],
      "metadata": {
        "id": "PXoXWb7Z8IGi"
      }
    }
  ]
}
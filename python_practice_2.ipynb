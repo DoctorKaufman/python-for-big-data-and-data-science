{
  "nbformat": 4,
  "nbformat_minor": 0,
  "metadata": {
    "colab": {
      "provenance": []
    },
    "kernelspec": {
      "name": "python3",
      "display_name": "Python 3"
    },
    "language_info": {
      "name": "python"
    }
  },
  "cells": [
    {
      "cell_type": "markdown",
      "source": [
        "# I. Змінні та памʼять."
      ],
      "metadata": {
        "id": "p9wwt0LZzNvn"
      }
    },
    {
      "cell_type": "markdown",
      "source": [],
      "metadata": {
        "id": "mv9X1lcRllIo"
      }
    },
    {
      "cell_type": "markdown",
      "source": [
        "1. Створити змінні, що посилаються на два цілих числа, що однакові за значенням, де значення належить проміжку від -5 до 256. Перевірте, чи будуть ці змінні рівні тільки за значенням або ж ще будуть посилатися на один і той самий обʼєкт в памʼяті? Наведіть код та дайте текстову відповідь нижче."
      ],
      "metadata": {
        "id": "HTJrrm95xSV9"
      }
    },
    {
      "cell_type": "markdown",
      "source": [],
      "metadata": {
        "id": "RuC0ApTPlkwj"
      }
    },
    {
      "cell_type": "code",
      "execution_count": 62,
      "metadata": {
        "id": "TATni2vzayjG",
        "colab": {
          "base_uri": "https://localhost:8080/"
        },
        "outputId": "6445e9c2-d04a-4bc5-c245-fc520f976b79"
      },
      "outputs": [
        {
          "output_type": "stream",
          "name": "stdout",
          "text": [
            "Equal by value: True\n",
            "Reference the same object: True\n",
            "id(num1): 135307609753520\n",
            "id(num2): 135307609753520\n"
          ]
        }
      ],
      "source": [
        "num1 = 55\n",
        "num2 = 55\n",
        "\n",
        "print(f'Equal by value: {num1 == num2}')\n",
        "print(f'Reference the same object: {id(num1) == id(num2)}')\n",
        "print(f'id(num1): {id(num1)}')\n",
        "print(f'id(num2): {id(num2)}')"
      ]
    },
    {
      "cell_type": "markdown",
      "source": [
        "Так, ці змінні рівні за значенням та посилаються на одинй і той самий об'єкт у пам'яті, так як такі числа (від -5 до 256) хешуються у Python.\n"
      ],
      "metadata": {
        "id": "zfRG_o3WbRdg"
      }
    },
    {
      "cell_type": "markdown",
      "source": [
        "2. За допомогою якої функції можна перевірити належність змінної до вказаного типу даних (напр. чи змінна True посилається на значення булевого та цілочисленого типу)?"
      ],
      "metadata": {
        "id": "ISORzt6M3vAt"
      }
    },
    {
      "cell_type": "code",
      "source": [
        "b = True\n",
        "\n",
        "print(f'References bool type: {isinstance(b, bool)}')\n",
        "print(f'References int type: {isinstance(b, int)}')"
      ],
      "metadata": {
        "id": "9vL9CFaMbfyo",
        "colab": {
          "base_uri": "https://localhost:8080/"
        },
        "outputId": "e5983eba-9567-4676-c05f-972ac0d18ed3"
      },
      "execution_count": null,
      "outputs": [
        {
          "output_type": "stream",
          "name": "stdout",
          "text": [
            "References bool type: True\n",
            "References int type: True\n"
          ]
        }
      ]
    },
    {
      "cell_type": "markdown",
      "source": [
        "# II. Цілі числа та числа з рухомою комою"
      ],
      "metadata": {
        "id": "tRxugKAxwYLw"
      }
    },
    {
      "cell_type": "markdown",
      "source": [
        "3. Створити дві змінні, що посилаються на будь-які ціле число та число з рухомою комою та продемонструвати такі арифметичні операції: додавання, віднімання, ділення, множення, ділення без залишку, ділення по модулю, приведення до ступеню. Всі результати операцій вивести на екран."
      ],
      "metadata": {
        "id": "NLHkgd5Gybc8"
      }
    },
    {
      "cell_type": "code",
      "source": [
        "int_num = 5\n",
        "float_num = 3.5\n",
        "\n",
        "print(\"Addition:\", int_num + float_num)\n",
        "print(\"Subtraction:\", int_num - float_num)\n",
        "print(\"Division:\", int_num / float_num)\n",
        "print(\"Multiplication:\", int_num * float_num)\n",
        "print(\"Floor division:\", int_num // float_num)\n",
        "print(\"Modulo division:\", int_num % float_num)\n",
        "print(\"Exponentiation:\", float_num ** int_num)"
      ],
      "metadata": {
        "id": "nb8u_3pjb2cA",
        "colab": {
          "base_uri": "https://localhost:8080/"
        },
        "outputId": "0cdb1b88-0fc2-4fed-c0d3-612f0c005fd5"
      },
      "execution_count": null,
      "outputs": [
        {
          "output_type": "stream",
          "name": "stdout",
          "text": [
            "Addition: 8.5\n",
            "Subtraction: 1.5\n",
            "Division: 1.4285714285714286\n",
            "Multiplication: 17.5\n",
            "Floor division: 1.0\n",
            "Modulo division: 1.5\n",
            "Exponentiation: 525.21875\n"
          ]
        }
      ]
    },
    {
      "cell_type": "markdown",
      "source": [
        "4. Використовуючи змінні з вправи 3, продемонструйте механізм явного перетворення типів, де числа з рухомою комою перетворюються на цілі числа. Також визначте змінну, що посилається на значення булевого типу і спробуйте явно привести її до цілого числа."
      ],
      "metadata": {
        "id": "1kBClKgPzZnC"
      }
    },
    {
      "cell_type": "code",
      "source": [
        "int_from_float = int(float_num)\n",
        "\n",
        "print(\"float_num type:\", type(float_num), \"and value:\", float_num)\n",
        "print(\"int_from_float type:\", type(int_from_float), \"and value:\", int_from_float)\n",
        "\n",
        "boolean_var = True\n",
        "int_from_bool = int(boolean_var)\n",
        "\n",
        "print(\"boolean_var type:\", type(boolean_var), \"and value:\", boolean_var)\n",
        "print(\"int_from_bool type:\", type(int_from_bool), \"and value:\", int_from_bool)"
      ],
      "metadata": {
        "id": "TbqJbkeUcKsD",
        "colab": {
          "base_uri": "https://localhost:8080/"
        },
        "outputId": "855f8a33-a057-4f8c-b237-0e27154af419"
      },
      "execution_count": 63,
      "outputs": [
        {
          "output_type": "stream",
          "name": "stdout",
          "text": [
            "float_num type: <class 'float'> and value: 3.5\n",
            "int_from_float type: <class 'int'> and value: 3\n",
            "boolean_var type: <class 'bool'> and value: True\n",
            "int_from_bool type: <class 'int'> and value: 1\n"
          ]
        }
      ]
    },
    {
      "cell_type": "markdown",
      "source": [
        "# IІІ. Рядки (String)."
      ],
      "metadata": {
        "id": "EVJ7AflwxrZi"
      }
    },
    {
      "cell_type": "markdown",
      "source": [
        "\n",
        "\n",
        "```\n",
        "# This is formatted as code\n",
        "```\n",
        "\n",
        "5. Створити пустий рядок двома різними способами."
      ],
      "metadata": {
        "id": "_s5ECzz9zE61"
      }
    },
    {
      "cell_type": "code",
      "source": [
        "empty_s1 = \"\"\n",
        "empty_s2 = str()\n",
        "\n",
        "print(\"empty_s1: \", empty_s1)\n",
        "print(\"empty_s1 type: \", type(empty_s1))\n",
        "print(\"empty_s2: \", empty_s2)\n",
        "print(\"empty_s2 type: \", type(empty_s2))"
      ],
      "metadata": {
        "id": "fkZJHu9Scvc-",
        "colab": {
          "base_uri": "https://localhost:8080/"
        },
        "outputId": "09282ce2-2022-44c1-8fcc-d448b6aa226d"
      },
      "execution_count": null,
      "outputs": [
        {
          "output_type": "stream",
          "name": "stdout",
          "text": [
            "empty_s1:  \n",
            "empty_s1 type:  <class 'str'>\n",
            "empty_s2:  \n",
            "empty_s2 type:  <class 'str'>\n"
          ]
        }
      ]
    },
    {
      "cell_type": "markdown",
      "source": [
        "6. Створити рядок з апострофом. Зробити його сирим. Вивести обидва рядка на екран."
      ],
      "metadata": {
        "id": "4Bdn9J3MzLf_"
      }
    },
    {
      "cell_type": "code",
      "source": [
        "apostrophe_str = \"An apost\\trophe: ' \"\n",
        "raw_apostrophe_str = r\"An apost\\trophe: ' \"\n",
        "\n",
        "print(\"apostrophe_str: \", apostrophe_str)\n",
        "print(\"raw_apostrophe_str: \", raw_apostrophe_str)"
      ],
      "metadata": {
        "id": "ivji_hsmc0GH",
        "colab": {
          "base_uri": "https://localhost:8080/"
        },
        "outputId": "55505368-0e4b-4402-930a-40732b6f9bca"
      },
      "execution_count": 64,
      "outputs": [
        {
          "output_type": "stream",
          "name": "stdout",
          "text": [
            "apostrophe_str:  An apost\trophe: ' \n",
            "raw_apostrophe_str:  An apost\\trophe: ' \n"
          ]
        }
      ]
    },
    {
      "cell_type": "markdown",
      "source": [
        "7. Створити змінну, що буде посилатися на Ваше прізвище латинкою. Створити форматований рядок, який буде мати вигляд \"My surname is ______\", де на місці нижніх підкреслень буде Ваше прізвище зі змінної."
      ],
      "metadata": {
        "id": "bg_d8wM4z8dS"
      }
    },
    {
      "cell_type": "code",
      "source": [
        "my_surname = \"Krasovskyy\"\n",
        "\n",
        "formatted_str = f\"My surname is {my_surname}\"\n",
        "\n",
        "print(formatted_str)"
      ],
      "metadata": {
        "id": "kuxFgpWndACq",
        "colab": {
          "base_uri": "https://localhost:8080/"
        },
        "outputId": "1942c973-a78a-4a9a-8e67-34243b395d25"
      },
      "execution_count": null,
      "outputs": [
        {
          "output_type": "stream",
          "name": "stdout",
          "text": [
            "My surname is Krasovskyy\n"
          ]
        }
      ]
    },
    {
      "cell_type": "markdown",
      "source": [
        "8. Маючи рядок \"My dog is crazy.\" перетворити його на список [\"my\", \"dog\", \"is\", \"crazy\"]"
      ],
      "metadata": {
        "id": "1Nc6RqvQ0hxU"
      }
    },
    {
      "cell_type": "code",
      "source": [
        "line = \"My dog is crazy.\"\n",
        "\n",
        "w_list = line.split()\n",
        "\n",
        "print(w_list)"
      ],
      "metadata": {
        "id": "w1Ya4RqedUhw",
        "colab": {
          "base_uri": "https://localhost:8080/"
        },
        "outputId": "f11d8753-8b5a-447c-d562-96a58bb5773a"
      },
      "execution_count": 65,
      "outputs": [
        {
          "output_type": "stream",
          "name": "stdout",
          "text": [
            "['My', 'dog', 'is', 'crazy.']\n"
          ]
        }
      ]
    },
    {
      "cell_type": "markdown",
      "source": [
        "# IV. Робота зі списками."
      ],
      "metadata": {
        "id": "GYVqN9uP1D4n"
      }
    },
    {
      "cell_type": "markdown",
      "source": [
        "9. Створити список двома різними за синтаксисом способами. За допомогою вбудованої функції обчисліть довжину одного з них."
      ],
      "metadata": {
        "id": "7-DeDunw2sO-"
      }
    },
    {
      "cell_type": "code",
      "source": [
        "list1 = [1, 2, 3, 4, 5, 6, 7, 8, 9, 10]\n",
        "\n",
        "list2 = list(range(10))\n",
        "\n",
        "list_length = len(list1)\n",
        "\n",
        "print(\"list1:\", list1)\n",
        "print(f\"list1 length: {list_length}\")"
      ],
      "metadata": {
        "id": "zxg06Uuxdyoh",
        "colab": {
          "base_uri": "https://localhost:8080/"
        },
        "outputId": "f2057ceb-49c2-4783-8e3e-09b21361e4e5"
      },
      "execution_count": 66,
      "outputs": [
        {
          "output_type": "stream",
          "name": "stdout",
          "text": [
            "list1: [1, 2, 3, 4, 5, 6, 7, 8, 9, 10]\n",
            "list1 length: 10\n"
          ]
        }
      ]
    },
    {
      "cell_type": "markdown",
      "source": [
        "10. Створіть два списка та за допомогою спеціального методу додайте другий з них в якості останнього елемента першого."
      ],
      "metadata": {
        "id": "8vmGUTjL22gI"
      }
    },
    {
      "cell_type": "code",
      "source": [
        "list3 = [1, 2, 3, 5, 6, 7, 8]\n",
        "list3_last_el = [9, 10, 11, 12]\n",
        "\n",
        "print(\"list3:\", list3)\n",
        "print(\"list to append:\", list3_last_el)\n",
        "\n",
        "list3.append(list3_last_el)\n",
        "\n",
        "print(\"Added second list as last element :\", list3)"
      ],
      "metadata": {
        "id": "uHtjWYw7d7hm",
        "colab": {
          "base_uri": "https://localhost:8080/"
        },
        "outputId": "820eb6b4-5f30-4b5f-a9b2-a82a8599b6df"
      },
      "execution_count": 67,
      "outputs": [
        {
          "output_type": "stream",
          "name": "stdout",
          "text": [
            "list3: [1, 2, 3, 5, 6, 7, 8]\n",
            "list to append: [9, 10, 11, 12]\n",
            "Added second list as last element : [1, 2, 3, 5, 6, 7, 8, [9, 10, 11, 12]]\n"
          ]
        }
      ]
    },
    {
      "cell_type": "markdown",
      "source": [
        "*11*. Створіть список, де елементами цього списку також є списки. Отримай перший елемент з останнього рядка та виведи значення на екран."
      ],
      "metadata": {
        "id": "JC3BkD-67_--"
      }
    },
    {
      "cell_type": "code",
      "source": [
        "list_of_lists = [[1, 2, 3], [4, 5, 6], [7, 8, 9]]\n",
        "\n",
        "print(list_of_lists[-1][0])"
      ],
      "metadata": {
        "id": "Kz2jZHsGeLlz",
        "colab": {
          "base_uri": "https://localhost:8080/"
        },
        "outputId": "ca1dc048-5e49-4f94-b126-2076a36ba8b4"
      },
      "execution_count": 68,
      "outputs": [
        {
          "output_type": "stream",
          "name": "stdout",
          "text": [
            "7\n"
          ]
        }
      ]
    },
    {
      "cell_type": "markdown",
      "source": [
        "12. Створіть список з десяти елементів різного типу. Отримайте всі елементи, окрім двох перших та двох останніх та збережіть їх в новій змінній.\n",
        "\n",
        "---\n",
        "\n"
      ],
      "metadata": {
        "id": "JA47PKTv8zFK"
      }
    },
    {
      "cell_type": "code",
      "source": [
        "mix_list = [0, \"str\", 3.5, False, {1, 2, 3}, [0, 1], {'two': 2, 'five': 5}, (0, 1, 2), 123, 13.5]\n",
        "\n",
        "list_slice = mix_list[2:-2]\n",
        "\n",
        "print(list_slice)"
      ],
      "metadata": {
        "id": "_rHdUR-ueP4-",
        "colab": {
          "base_uri": "https://localhost:8080/"
        },
        "outputId": "15e7b496-cb44-465a-c774-d128054d788d"
      },
      "execution_count": 69,
      "outputs": [
        {
          "output_type": "stream",
          "name": "stdout",
          "text": [
            "[3.5, False, {1, 2, 3}, [0, 1], {'two': 2, 'five': 5}, (0, 1, 2)]\n"
          ]
        }
      ]
    },
    {
      "cell_type": "markdown",
      "source": [
        "# V. Робота з кортежами."
      ],
      "metadata": {
        "id": "pCjR1dJb1Qbi"
      }
    },
    {
      "cell_type": "markdown",
      "source": [
        "14. Створити кортеж з один елементом."
      ],
      "metadata": {
        "id": "fAZCxAX06R_k"
      }
    },
    {
      "cell_type": "code",
      "source": [
        "one_el_tuple = (0,)\n",
        "\n",
        "print(one_el_tuple)"
      ],
      "metadata": {
        "id": "H7d82WkQev3e",
        "colab": {
          "base_uri": "https://localhost:8080/"
        },
        "outputId": "026173dd-035b-41c5-963b-2b33b74cb5e7"
      },
      "execution_count": 72,
      "outputs": [
        {
          "output_type": "stream",
          "name": "stdout",
          "text": [
            "(0,)\n"
          ]
        }
      ]
    },
    {
      "cell_type": "markdown",
      "source": [
        "15. Порівняйте список та кортеж. Назвіть схожості та відмінності, випадки використання."
      ],
      "metadata": {
        "id": "8LCtYcmI6w1M"
      }
    },
    {
      "cell_type": "markdown",
      "source": [
        "Обидва типи мають індексацію, можуть містити багато елементів.\n",
        "Вони можуть містити елементи різних типів, але кортежі зазвичай використовують для збереження елементів одного типу.\n",
        "Кортежі є незмінними (immutable), на відміну від списків.\n",
        "Кортежі діють швидше за списки у багатьох випадках.\n",
        "\n",
        "Кортежі використовують, коли потрібна незмінна структура даних, наприклад, при передачі даних між компонентами програми, щоб убезпечити їх від зміни.\n",
        "Списки використовують коли необхідно зберігати колекцію елементів, яка може змінюватися під час роботи програми.\n"
      ],
      "metadata": {
        "id": "fUsN1Hnue0C6"
      }
    },
    {
      "cell_type": "markdown",
      "source": [
        "16. Створіть кортеж з 11ти елементів чисел з рухомою комою та отримайте кожен парний за індексом елемент в зворотньому порядку. Наприклад, маючи (1.2, 2.3, 3.3, 4.3, 5.3, 6.3, 7.3, 8.3, 9.3, 0.3), отримати (0.3, 8.3, 6.3, 4.3, 2.3). Результат збережіть в нову змінну та виведіть на екран."
      ],
      "metadata": {
        "id": "m0xrwFijAmDD"
      }
    },
    {
      "cell_type": "code",
      "source": [
        "tuple11 = (0.2, 4.3, 2.3, 4.4, 1.2, 6.8, 7.3, 8.3, 2.1, 3.3, 1.7)\n",
        "\n",
        "new_tuple = tuple11[::-2]\n",
        "\n",
        "print(new_tuple)"
      ],
      "metadata": {
        "id": "p-5DAH6XfAGA",
        "colab": {
          "base_uri": "https://localhost:8080/"
        },
        "outputId": "35bbf673-e28c-4ee6-c282-a9044d9ae6b0"
      },
      "execution_count": 48,
      "outputs": [
        {
          "output_type": "stream",
          "name": "stdout",
          "text": [
            "(1.7, 2.1, 7.3, 1.2, 2.3, 0.2)\n"
          ]
        }
      ]
    },
    {
      "cell_type": "markdown",
      "source": [
        "# VI. Множини (Set)."
      ],
      "metadata": {
        "id": "rW_I9dt3x6cW"
      }
    },
    {
      "cell_type": "markdown",
      "source": [
        "17. Створити множину без елементів. Після цого за допомогою методу додайте кілька різних елементів до множини. Чи множини є змінним типом даних?"
      ],
      "metadata": {
        "id": "zNjRLHLw1Bgg"
      }
    },
    {
      "cell_type": "code",
      "source": [
        "set0 = set()\n",
        "\n",
        "print(\"Empty set:\", set0)\n",
        "\n",
        "set0.add(1)\n",
        "set0.add(5)\n",
        "set0.add(10)\n",
        "\n",
        "print(\"Modified set:\", set0)\n"
      ],
      "metadata": {
        "id": "KOv7zc2Kfo4N",
        "colab": {
          "base_uri": "https://localhost:8080/"
        },
        "outputId": "5d11a490-3dcd-4790-d698-b7710945ada4"
      },
      "execution_count": 73,
      "outputs": [
        {
          "output_type": "stream",
          "name": "stdout",
          "text": [
            "Empty set: set()\n",
            "Modified set: {1, 10, 5}\n"
          ]
        }
      ]
    },
    {
      "cell_type": "markdown",
      "source": [
        "Сет є змінним типом даних, так як допускає, наприклад, додавання нових елементів."
      ],
      "metadata": {
        "id": "vxS6dVYiftZQ"
      }
    },
    {
      "cell_type": "markdown",
      "source": [
        "18. Створити множину, маючи список my_list = [1, 1, 2, 67, 67, 8, 9]. Пояснити, чому \"зникли\" деякі елементи."
      ],
      "metadata": {
        "id": "gHpT0Zw_1HEF"
      }
    },
    {
      "cell_type": "code",
      "source": [
        "my_list = [1, 1, 2, 67, 67, 8, 9]\n",
        "my_set = set(my_list)\n",
        "\n",
        "print(my_set)"
      ],
      "metadata": {
        "id": "qCN4uvJ_fxmu",
        "colab": {
          "base_uri": "https://localhost:8080/"
        },
        "outputId": "c70e332e-40f2-4334-edaa-a7467795176d"
      },
      "execution_count": 74,
      "outputs": [
        {
          "output_type": "stream",
          "name": "stdout",
          "text": [
            "{1, 2, 67, 8, 9}\n"
          ]
        }
      ]
    },
    {
      "cell_type": "markdown",
      "source": [
        "Елементи зникли, тому що сети не допускають дублікати."
      ],
      "metadata": {
        "id": "tFNc1e20fyny"
      }
    },
    {
      "cell_type": "markdown",
      "source": [
        "19. Створіть дві множини. Продемонстуйте над ними операції: обʼєднання, різниці, пересічі та симетричної різниці. Використовуйте методи, що не змінюють множини, а створюють нові."
      ],
      "metadata": {
        "id": "SRMkGizS1UwY"
      }
    },
    {
      "cell_type": "code",
      "source": [
        "set1 = {1, 2, 3, 4, 5, 6, 7}\n",
        "set2 = {3, 4, 5, 6, 7, 8, 9}\n",
        "\n",
        "union_set = set1.union(set2)\n",
        "print(\"Union:\", union_set)\n",
        "\n",
        "difference_set = set1.difference(set2)\n",
        "print(\"Difference:\", difference_set)\n",
        "\n",
        "intersection_set = set1.intersection(set2)\n",
        "print(\"Intersection:\", intersection_set)\n",
        "\n",
        "symmetric_difference_set = set1.symmetric_difference(set2)\n",
        "print(\"Symmetric difference:\", symmetric_difference_set)\n",
        "\n",
        "print(\"Set1 unchanged:\", set1)\n",
        "print(\"Set2 unchanged:\", set2)"
      ],
      "metadata": {
        "id": "h0T-VuDnf3Ri",
        "colab": {
          "base_uri": "https://localhost:8080/"
        },
        "outputId": "8b8c38ee-9597-4e72-e06b-14faa9e354d7"
      },
      "execution_count": 51,
      "outputs": [
        {
          "output_type": "stream",
          "name": "stdout",
          "text": [
            "Union {1, 2, 3, 4, 5, 6, 7, 8, 9}\n",
            "Difference: {1, 2}\n",
            "Intersection: {3, 4, 5, 6, 7}\n",
            "Symmetric difference: {1, 2, 8, 9}\n",
            "Set1 unchanged: {1, 2, 3, 4, 5, 6, 7}\n",
            "Set2 unchanged: {3, 4, 5, 6, 7, 8, 9}\n"
          ]
        }
      ]
    },
    {
      "cell_type": "markdown",
      "source": [
        "# VII. Словники (Dictionary)."
      ],
      "metadata": {
        "id": "kWc8gkzTx7Ea"
      }
    },
    {
      "cell_type": "markdown",
      "source": [
        "20. Створіть пустий словник. До нього додайте чотири пари елементів такі, щоб їхні ключі були різних типів. Чи може список бути ключем? Чому?"
      ],
      "metadata": {
        "id": "i5FLwj-B2ybQ"
      }
    },
    {
      "cell_type": "code",
      "source": [
        "dictionary = {}\n",
        "\n",
        "dictionary[0] = 'zero'\n",
        "dictionary[3.5] = 'three and a half'\n",
        "dictionary['three'] = 3\n",
        "dictionary[(0, 0)] = 'tuple is my key'\n",
        "\n",
        "print(dictionary)\n"
      ],
      "metadata": {
        "id": "hxgv3BzrgLAV",
        "colab": {
          "base_uri": "https://localhost:8080/"
        },
        "outputId": "e220485a-9035-4019-bbe5-9a9f720226a5"
      },
      "execution_count": 75,
      "outputs": [
        {
          "output_type": "stream",
          "name": "stdout",
          "text": [
            "{0: 'zero', 3.5: 'three and a half', 'three': 3, (0, 0): 'tuple is my key'}\n"
          ]
        }
      ]
    },
    {
      "cell_type": "markdown",
      "source": [
        "Список не може бути ключем, так як ключі мають бути immutable типів, адже якщо вони будуть змінні, їх хеш може змінитися, що робить такі об'єкти непридатними до ролі ключа."
      ],
      "metadata": {
        "id": "zwa7UVN-gR3m"
      }
    },
    {
      "cell_type": "markdown",
      "source": [
        "21. Створіть словник, де значенням в одній з пар теж буде словник, який теж має вкладений словник. Виведіть на екран значення, що міститься в словнику, що знаходиться на найнижчому рівні ієрархії вкладеності (найбільш внутрішній)."
      ],
      "metadata": {
        "id": "WM_pMlJsgoNf"
      }
    },
    {
      "cell_type": "code",
      "source": [
        "dictionary_inside = { 'key1': 1,\n",
        "                      'inner1':\n",
        "                      { 'key2': 2,\n",
        "                        'inner2':\n",
        "                        {'inner3':\n",
        "                          'value inside'\n",
        "                        }\n",
        "                      }\n",
        "                    }\n",
        "\n",
        "print(dictionary_inside['inner1']['inner2']['inner3'])"
      ],
      "metadata": {
        "id": "60dlP7IHhAy4",
        "colab": {
          "base_uri": "https://localhost:8080/"
        },
        "outputId": "08aac3a6-6a1f-4831-8e55-6215e19b78cc"
      },
      "execution_count": 76,
      "outputs": [
        {
          "output_type": "stream",
          "name": "stdout",
          "text": [
            "value inside\n"
          ]
        }
      ]
    },
    {
      "cell_type": "markdown",
      "source": [
        "# Вітаю! Ви велика(ий) молодець, що впоралась(вся). Похваліть себе та побалуйте чимось приємним. Я Вами пишаюся."
      ],
      "metadata": {
        "id": "xOZP0hkx6cCr"
      }
    }
  ]
}